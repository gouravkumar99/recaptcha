{
 "cells": [
  {
   "cell_type": "code",
   "execution_count": 1,
   "id": "eb727174",
   "metadata": {},
   "outputs": [],
   "source": [
    "import undetected_chromedriver as uc\n",
    "from selenium.webdriver.common.by import By\n",
    "from selenium.webdriver.support import expected_conditions as EC\n",
    "from selenium.webdriver.support.ui import WebDriverWait as wait\n",
    "from time import sleep"
   ]
  },
  {
   "cell_type": "code",
   "execution_count": 29,
   "id": "5f8dc12d",
   "metadata": {},
   "outputs": [],
   "source": [
    "obj = uc.Chrome()\n",
    "obj.get(\"https://www.eticketing.co.uk/arsenal/\")\n",
    "obj.maximize_window()"
   ]
  },
  {
   "cell_type": "code",
   "execution_count": 55,
   "id": "f8099be8",
   "metadata": {},
   "outputs": [],
   "source": [
    "obj.execute_script('var element=document.getElementById(\"g-recaptcha-response\"); element.style.display=\"\";')\n",
    "obj.find_element(By.ID,\"g-recaptcha-response\").clear()\n",
    "obj.find_element(By.ID,\"g-recaptcha-response\").send_keys(g_response)\n",
    "obj.execute_script('var element=document.getElementById(\"g-recaptcha-response\"); element.style.display=\"none\";')"
   ]
  },
  {
   "cell_type": "code",
   "execution_count": null,
   "id": "e8846995",
   "metadata": {},
   "outputs": [],
   "source": [
    "from capsolver_python import RecaptchaV2Task\n",
    "capsolver = RecaptchaV2Task(\"\")\n",
    "task_id = capsolver.create_task(\"https://www.google.com/recaptcha/api2/demo\", \"6Le-wvkSAAAAAPBMRTvw0Q4Muexq9bi0DJwx_mJ-\")"
   ]
  },
  {
   "cell_type": "code",
   "execution_count": 65,
   "id": "1ad366d3",
   "metadata": {},
   "outputs": [],
   "source": [
    "#click reject cookies\n",
    "wait(obj,10).until(EC.presence_of_element_located((By.ID,\"onetrust-reject-all-handler\"))).click()\n",
    "#click SEE WHAT'S AVAILABLE\n",
    "obj.find_element(By.CLASS_NAME,\"spotlights__button\").click()\n",
    "#click FIND TICKETS\n",
    "wait(obj,20).until(EC.presence_of_element_located((By.XPATH,'//a[@data-qa-id=\"find-event-tickets-button\"]'))).click()\n",
    "wait(obj,20).until(EC.presence_of_element_located((By.ID,\"Username\"))).send_keys('5004198')\n",
    "wait(obj,20).until(EC.presence_of_element_located((By.ID,\"Password\"))).send_keys('May12feb1998')\n",
    "obj.find_element(By.XPATH,'//button[@value=\"login\"]').click()"
   ]
  },
  {
   "cell_type": "code",
   "execution_count": 66,
   "id": "74297cbb",
   "metadata": {},
   "outputs": [
    {
     "data": {
      "text/plain": [
       "'THIS EVENT IS NOT YET AVAILABLE TO YOU'"
      ]
     },
     "execution_count": 66,
     "metadata": {},
     "output_type": "execute_result"
    }
   ],
   "source": [
    "obj.find_element(By.CLASS_NAME,\"event-restriction__title\").text"
   ]
  },
  {
   "cell_type": "code",
   "execution_count": 23,
   "id": "36728918",
   "metadata": {},
   "outputs": [
    {
     "data": {
      "text/plain": [
       "'LOGIN'"
      ]
     },
     "execution_count": 23,
     "metadata": {},
     "output_type": "execute_result"
    }
   ],
   "source": []
  },
  {
   "cell_type": "code",
   "execution_count": null,
   "id": "177f84b7",
   "metadata": {},
   "outputs": [],
   "source": []
  },
  {
   "cell_type": "code",
   "execution_count": null,
   "id": "6df08f9b",
   "metadata": {},
   "outputs": [],
   "source": []
  },
  {
   "cell_type": "code",
   "execution_count": null,
   "id": "2d076aed",
   "metadata": {},
   "outputs": [],
   "source": []
  },
  {
   "cell_type": "code",
   "execution_count": null,
   "id": "785b0338",
   "metadata": {},
   "outputs": [],
   "source": []
  },
  {
   "cell_type": "code",
   "execution_count": null,
   "id": "b49093e1",
   "metadata": {},
   "outputs": [],
   "source": []
  },
  {
   "cell_type": "code",
   "execution_count": null,
   "id": "44ebecca",
   "metadata": {},
   "outputs": [],
   "source": []
  },
  {
   "cell_type": "code",
   "execution_count": null,
   "id": "857c6a88",
   "metadata": {},
   "outputs": [],
   "source": []
  },
  {
   "cell_type": "code",
   "execution_count": null,
   "id": "8630f3d6",
   "metadata": {},
   "outputs": [],
   "source": []
  },
  {
   "cell_type": "code",
   "execution_count": null,
   "id": "77ce6d21",
   "metadata": {},
   "outputs": [],
   "source": []
  },
  {
   "cell_type": "code",
   "execution_count": null,
   "id": "31addf11",
   "metadata": {},
   "outputs": [],
   "source": []
  },
  {
   "cell_type": "code",
   "execution_count": null,
   "id": "c7668715",
   "metadata": {},
   "outputs": [],
   "source": []
  },
  {
   "cell_type": "code",
   "execution_count": null,
   "id": "0d798fd9",
   "metadata": {},
   "outputs": [],
   "source": []
  },
  {
   "cell_type": "code",
   "execution_count": null,
   "id": "ecec8417",
   "metadata": {},
   "outputs": [],
   "source": []
  },
  {
   "cell_type": "code",
   "execution_count": null,
   "id": "0b77a462",
   "metadata": {},
   "outputs": [],
   "source": []
  }
 ],
 "metadata": {
  "kernelspec": {
   "display_name": "Python 3 (ipykernel)",
   "language": "python",
   "name": "python3"
  },
  "language_info": {
   "codemirror_mode": {
    "name": "ipython",
    "version": 3
   },
   "file_extension": ".py",
   "mimetype": "text/x-python",
   "name": "python",
   "nbconvert_exporter": "python",
   "pygments_lexer": "ipython3",
   "version": "3.11.3"
  },
  "varInspector": {
   "cols": {
    "lenName": 16,
    "lenType": 16,
    "lenVar": 40
   },
   "kernels_config": {
    "python": {
     "delete_cmd_postfix": "",
     "delete_cmd_prefix": "del ",
     "library": "var_list.py",
     "varRefreshCmd": "print(var_dic_list())"
    },
    "r": {
     "delete_cmd_postfix": ") ",
     "delete_cmd_prefix": "rm(",
     "library": "var_list.r",
     "varRefreshCmd": "cat(var_dic_list()) "
    }
   },
   "types_to_exclude": [
    "module",
    "function",
    "builtin_function_or_method",
    "instance",
    "_Feature"
   ],
   "window_display": false
  }
 },
 "nbformat": 4,
 "nbformat_minor": 5
}
